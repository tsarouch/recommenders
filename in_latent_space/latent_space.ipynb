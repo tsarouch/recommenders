{
 "cells": [
  {
   "cell_type": "code",
   "execution_count": 1,
   "metadata": {
    "collapsed": false
   },
   "outputs": [],
   "source": [
    "%load_ext autoreload\n",
    "%autoreload 2\n",
    "%matplotlib inline  \n",
    "\n",
    "import matplotlib\n",
    "import numpy as np\n",
    "import matplotlib.pyplot as plt\n",
    "\n",
    "\n",
    "sql_context = sqlContext"
   ]
  },
  {
   "cell_type": "code",
   "execution_count": 2,
   "metadata": {
    "collapsed": true
   },
   "outputs": [],
   "source": [
    "#!/usr/bin/env python\n",
    "# -*- coding: utf-8 -*-\n",
    "\n",
    "\n",
    "\"\"\" Collaborative Filtering class to serve recommendations\n",
    "Notice: The input are implicit rating objects - not explicit ones.\n",
    "\"\"\"\n",
    "\n",
    "import numpy as np\n",
    "from numpy import linalg as alg\n",
    "\n",
    "from operator import add\n",
    "from pyspark.mllib.recommendation import Rating, ALS\n",
    "from pyspark.ml.feature import StringIndexer\n",
    "from pyspark.sql import Row\n",
    "from pyspark.sql.functions import col\n",
    "\n",
    "class CollaborativeFiltering():\n",
    "\n",
    "    def __init__(self, rank=20, lmbda=0.01, n_iterations=10):\n",
    "        \"\"\"\n",
    "        :rank (int): Rank of the feature matrices computed (number of features)\n",
    "        :iterations (int): Number of iterations of ALS\n",
    "        :lmda (float): Regularization parameter. (default: 0.01)\n",
    "        \"\"\"\n",
    "\n",
    "        # CF parameters\n",
    "        self.rank = rank\n",
    "        self.lmbda = lmbda\n",
    "        self.n_iterations = n_iterations\n",
    "\n",
    "\n",
    "        # internal data structures needed for CF\n",
    "        self.user_column = 'user'\n",
    "        self.item_column = 'item'\n",
    "        self.rating_column = 'rating'\n",
    "        self.user_index_column = 'user_index'\n",
    "        self.item_index_column = 'item_index'\n",
    "        self.df_ratings = None\n",
    "        self.rdd_ratings = None\n",
    "\n",
    "        # The CF model itself\n",
    "        self.model = None\n",
    "\n",
    "        # Auxilliary data strucutres\n",
    "        self.annoy_index = None\n",
    "        self.annoy_trees = None\n",
    "\n",
    "\n",
    "    def _get_rating_matrix_info(self, df,\n",
    "                               user_column, user_index_column,\n",
    "                               item_column, item_index_column,\n",
    "                               rating_column):\n",
    "        \"\"\" Preprocess data in order to get the ratings rdd (user, item, rating)\n",
    "        :df (Spark DataFrame): The input DataFrame holding the user/item data\n",
    "        :user_column (string): The user column name\n",
    "        :user_index_column (string): The user index column name\n",
    "        :item_column (string): The item column name\n",
    "        :item_index_column (string): The item index column name\n",
    "        :rating_column (string): The rating column name\n",
    "        input e.g.\n",
    "        +----+----+\n",
    "        |user|item|\n",
    "        +----+----+\n",
    "        |   A| id1|\n",
    "        |   A| id3|\n",
    "        |   B| id1|\n",
    "        |   C| id5|\n",
    "\n",
    "        output ratings data frame e.g.\n",
    "        +----+------+----+----------+----------+\n",
    "        |item|rating|user|user_index|item_index|\n",
    "        +----+------+----+----------+----------+\n",
    "        | id5|     1|   C|         2|         2|\n",
    "        | id1|     1|   B|         1|         0|\n",
    "        | id3|     1|   A|         0|         1|\n",
    "\n",
    "        output ratings rdd e.g.\n",
    "        [Rating(user=2, product=2, rating=1.0),\n",
    "         Rating(user=2, product=4, rating=1.0),\n",
    "         Rating(user=1, product=5, rating=1.0), ...]\n",
    "\n",
    "        \"\"\"\n",
    "\n",
    "        # clear data\n",
    "        # e.g. user has seen only one item - does not contribute to collborative intelligence\n",
    "        user_items_df = \\\n",
    "            df.rdd.groupByKey()\\\n",
    "                  .map(lambda (user, items): (user, len(items)))\\\n",
    "                  .map(lambda (user, n_items): Row(user=user, n_items=n_items))\\\n",
    "                  .toDF()\n",
    "        df = df.join(user_items_df, [user_column])\n",
    "        df = df.filter(df['n_items'] > 1).select([user_column, item_column])\n",
    "\n",
    "\n",
    "        # Get ratings matrix\n",
    "        # +----+------+----+\n",
    "        # |item|rating|user|\n",
    "        # +----+------+----+\n",
    "        # | id5|     1|   C|\n",
    "        # | id6|     1|   C|\n",
    "        # | id4|     1|   B|\n",
    "        df_ratings = df.rdd\\\n",
    "            .map(lambda (user, item): ((user, item), 1))\\\n",
    "            .reduceByKey(add)\\\n",
    "            .map(lambda ((user, item), rating): Row(user=user, item=item, rating=rating))\\\n",
    "            .toDF()\n",
    "\n",
    "        # Index user / item values for ALS input\n",
    "        # we cast explicitly to integer. If not result is real and ALS performance drops dramatically\n",
    "        df_ratings = StringIndexer(inputCol=user_column,\n",
    "                                   outputCol=user_index_column,\n",
    "                                   handleInvalid=\"skip\")\\\n",
    "            .fit(df_ratings)\\\n",
    "            .transform(df_ratings)\\\n",
    "            .withColumn(user_index_column, col(user_index_column).cast(\"integer\"))\n",
    "\n",
    "        df_ratings = StringIndexer(inputCol=item_column,\n",
    "                                   outputCol=item_index_column,\n",
    "                                   handleInvalid=\"skip\")\\\n",
    "            .fit(df_ratings)\\\n",
    "            .transform(df_ratings)\\\n",
    "            .withColumn(item_index_column, col(item_index_column).cast(\"integer\"))\n",
    "\n",
    "        # get ratings rdd\n",
    "        rdd_ratings = df_ratings\\\n",
    "            .select([user_index_column, item_index_column, rating_column])\\\n",
    "            .rdd.map(lambda (user, item, rating): Rating(user, item, rating))\n",
    "\n",
    "        return df_ratings, rdd_ratings\n",
    "\n",
    "\n",
    "    def train(self, df):\n",
    "        \"\"\" Training of Collabrative Filtering model.\n",
    "        This is a wrapper, see details in doc strings of functions below\n",
    "        :df (Spark DataFrame): The input DataFrame holding the user/item data\n",
    "        input e.g.\n",
    "        +----+----+\n",
    "        |user|item|\n",
    "        +----+----+\n",
    "        |   A| id1|\n",
    "        |   A| id3|\n",
    "        |   B| id1|\n",
    "        |   C| id5|\n",
    "        \"\"\"\n",
    "\n",
    "        # get rating objects\n",
    "        (self.df_ratings, self.rdd_ratings) = self._get_rating_matrix_info(df,\n",
    "            self.user_column, self.user_index_column,\n",
    "            self.item_column, self.item_index_column,\n",
    "            self.rating_column)\n",
    "\n",
    "        # train the ALS model (implicit because we have implicit ratings)\n",
    "        self.model = ALS.trainImplicit(self.rdd_ratings,\n",
    "                                  self.rank,\n",
    "                                  self.n_iterations,\n",
    "                                  self.lmbda)\n",
    "\n",
    "\n",
    "    def recommend_products(self, n_top_products):\n",
    "        return self.model.recommendProductsForUsers(n_top_products).collect()"
   ]
  },
  {
   "cell_type": "code",
   "execution_count": 3,
   "metadata": {
    "collapsed": false
   },
   "outputs": [
    {
     "name": "stdout",
     "output_type": "stream",
     "text": [
      "We have N distinct users:  5\n",
      "We have N distinct items:  11\n"
     ]
    }
   ],
   "source": [
    "\"\"\"\n",
    "Data input is a user-item DataFrame (implies that we want to use the implicit CF mathods)\n",
    "As we see we construct our data in such a way that we will be able to valide the reconstruction of the latent space.\n",
    "\n",
    "\"\"\"\n",
    "df = sql_context.createDataFrame([( 'Tom', 'red_shoes'),  \n",
    "                                  ( 'Tom', 'red_pen'),\n",
    "                                  ( 'Tom', 'red_bag'),\n",
    "                                  \n",
    "                                  ( 'Christian', 'blue_drone'),\n",
    "                                  ( 'Christian', 'blue_watch'),\n",
    "                                  ( 'Christian', 'blue_headphones'),\n",
    "                                  \n",
    "                                  ( 'Mary', 'red_shoes'),  \n",
    "                                  ( 'Mary', 'red_hat'),\n",
    "                                  ( 'Mary', 'red_bag'),\n",
    "                                  \n",
    "                                  ( 'Joe', 'yellow_boots'),  \n",
    "                                  ( 'Joe', 'yellow_ombrella'),\n",
    "                                  ( 'Joe', 'yellow_book'),\n",
    "                                                                    \n",
    "                                  ( 'Nick', 'blue_drone'),\n",
    "                                  ( 'Nick', 'blue_glasses'),\n",
    "                                  ( 'Nick', 'blue_headphones')\n",
    "                                 ], \n",
    "                                 [ \"user\", \"item\"])\n",
    "\n",
    "print \"We have N distinct users: \", df.select('user').distinct().count()\n",
    "print \"We have N distinct items: \", df.select('item').distinct().count()"
   ]
  },
  {
   "cell_type": "code",
   "execution_count": 4,
   "metadata": {
    "collapsed": false
   },
   "outputs": [
    {
     "name": "stdout",
     "output_type": "stream",
     "text": [
      "[Row(item=u'blue_headphones', rating=1, user=u'Nick', user_index=2, item_index=1), Row(item=u'yellow_ombrella', rating=1, user=u'Joe', user_index=0, item_index=9)]\n"
     ]
    }
   ],
   "source": [
    "# We want to perform CF and reducing on the same time the space of the latent factors to 2\n",
    "RANK = 2\n",
    "sql_context = sqlContext\n",
    "cf = CollaborativeFiltering(rank=RANK)\n",
    "cf.train(df)\n",
    "print cf.df_ratings.take(2)"
   ]
  },
  {
   "cell_type": "code",
   "execution_count": 5,
   "metadata": {
    "collapsed": false
   },
   "outputs": [
    {
     "name": "stdout",
     "output_type": "stream",
     "text": [
      "+----------+--------------------+\n",
      "|user_index|     user_latent_vec|\n",
      "+----------+--------------------+\n",
      "|         0|[-0.0248483140021...|\n",
      "|         1|[-1.2912447452545...|\n",
      "+----------+--------------------+\n",
      "only showing top 2 rows\n",
      "\n"
     ]
    }
   ],
   "source": [
    "# we can see now how our users are distributed in the latent space\n",
    "df_user_latent = sql_context.createDataFrame(cf.model.userFeatures(), \n",
    "                                             ['user_index', 'user_latent_vec'])\n",
    "df_user_latent.show(2)"
   ]
  },
  {
   "cell_type": "code",
   "execution_count": 6,
   "metadata": {
    "collapsed": false
   },
   "outputs": [
    {
     "name": "stdout",
     "output_type": "stream",
     "text": [
      "+----+----------+\n",
      "|user|user_index|\n",
      "+----+----------+\n",
      "|Nick|         2|\n",
      "| Joe|         0|\n",
      "+----+----------+\n",
      "only showing top 2 rows\n",
      "\n"
     ]
    }
   ],
   "source": [
    "# we can merge the user - user ids \n",
    "df_user_info = cf.df_ratings.select(['user', 'user_index'])\n",
    "df_user_info.show(2)"
   ]
  },
  {
   "cell_type": "code",
   "execution_count": 7,
   "metadata": {
    "collapsed": false
   },
   "outputs": [
    {
     "name": "stdout",
     "output_type": "stream",
     "text": [
      "+----------+--------------------+----+\n",
      "|user_index|     user_latent_vec|user|\n",
      "+----------+--------------------+----+\n",
      "|         0|[-0.0248483140021...| Joe|\n",
      "|         0|[-0.0248483140021...| Joe|\n",
      "+----------+--------------------+----+\n",
      "only showing top 2 rows\n",
      "\n"
     ]
    }
   ],
   "source": [
    "df_user_latent = df_user_latent.join(df_user_info, ['user_index'])\n",
    "df_user_latent.show(2)"
   ]
  },
  {
   "cell_type": "code",
   "execution_count": 8,
   "metadata": {
    "collapsed": false
   },
   "outputs": [
    {
     "name": "stdout",
     "output_type": "stream",
     "text": [
      "{(4, u'Mary'): [-1.2912441492080688, 0.08939532190561295], (3, u'Christian'): [-0.07930027693510056, -1.136736512184143], (0, u'Joe'): [-0.024848314002156258, -0.31130921840667725], (2, u'Nick'): [-0.07930071651935577, -1.136735200881958], (1, u'Tom'): [-1.2912447452545166, 0.08938603103160858]}\n"
     ]
    }
   ],
   "source": [
    "latent_d = df_user_latent.rdd.map(lambda (user_index, user_latent_vec, user): ((user_index, user), user_latent_vec)).collectAsMap()\n",
    "print latent_d"
   ]
  },
  {
   "cell_type": "code",
   "execution_count": 13,
   "metadata": {
    "collapsed": false
   },
   "outputs": [
    {
     "data": {
      "image/png": "[encoded data removed]",
      "text/plain": [
       "<matplotlib.figure.Figure at 0x7f5e3be78110>"
      ]
     },
     "metadata": {},
     "output_type": "display_data"
    }
   ],
   "source": [
    "import numpy as np\n",
    "import matplotlib.pyplot as plt\n",
    "import random\n",
    "\n",
    "x = []\n",
    "y = []\n",
    "annotations = []\n",
    "for k, v in latent_d.iteritems():\n",
    "    # we add on purpose a tiny noise fuctor so not to have overlaping points\n",
    "    epsilon = random.uniform(0, 0.3)\n",
    "    x.append(v[0]+epsilon)\n",
    "    y.append(v[1]+epsilon)\n",
    "    user = k[1]\n",
    "    annotations.append(user)\n",
    "        \n",
    "fig, ax = plt.subplots()\n",
    "plt.scatter(x, y)\n",
    "\n",
    "for i, a in enumerate(annotations):\n",
    "    plt.annotate(a, (x[i], y[i]))\n",
    "    \n",
    "plt.show()"
   ]
  },
  {
   "cell_type": "code",
   "execution_count": null,
   "metadata": {
    "collapsed": true
   },
   "outputs": [],
   "source": []
  },
  {
   "cell_type": "code",
   "execution_count": null,
   "metadata": {
    "collapsed": true
   },
   "outputs": [],
   "source": []
  }
 ],
 "metadata": {
  "kernelspec": {
   "display_name": "pySpark",
   "language": "python",
   "name": "pyspark"
  },
  "language_info": {
   "codemirror_mode": {
    "name": "ipython",
    "version": 2
   },
   "file_extension": ".py",
   "mimetype": "text/x-python",
   "name": "python",
   "nbconvert_exporter": "python",
   "pygments_lexer": "ipython2",
   "version": "2.7.12"
  }
 },
 "nbformat": 4,
 "nbformat_minor": 0
}
