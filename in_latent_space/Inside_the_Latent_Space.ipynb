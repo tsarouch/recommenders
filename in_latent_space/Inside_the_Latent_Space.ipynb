{
 "cells": [
  {
   "cell_type": "markdown",
   "metadata": {},
   "source": [
    "An attempt to snick in the latent space of the Matrix Factorization happening during the Collaborative filtering."
   ]
  },
  {
   "cell_type": "code",
   "execution_count": 1,
   "metadata": {
    "collapsed": false
   },
   "outputs": [],
   "source": [
    "%load_ext autoreload\n",
    "%autoreload 2\n",
    "%matplotlib inline  \n",
    "\n",
    "import matplotlib\n",
    "import numpy as np\n",
    "import matplotlib.pyplot as plt\n",
    "\n",
    "sql_context = sqlContext"
   ]
  },
  {
   "cell_type": "markdown",
   "metadata": {},
   "source": [
    "# Organize Collaborative Filtering inside a class"
   ]
  },
  {
   "cell_type": "code",
   "execution_count": 5,
   "metadata": {
    "collapsed": true
   },
   "outputs": [],
   "source": [
    "import numpy as np\n",
    "from numpy import linalg as alg\n",
    "\n",
    "from operator import add\n",
    "from pyspark.mllib.recommendation import Rating, ALS\n",
    "from pyspark.ml.feature import StringIndexer\n",
    "from pyspark.sql import Row\n",
    "from pyspark.sql.functions import col\n",
    "\n",
    "class CollaborativeFiltering():\n",
    "\n",
    "    def __init__(self, rank=20, lmbda=0.01, n_iterations=10):\n",
    "        \"\"\"\n",
    "        :rank (int): Rank of the feature matrices computed (number of features)\n",
    "        :iterations (int): Number of iterations of ALS\n",
    "        :lmda (float): Regularization parameter. (default: 0.01)\n",
    "        \"\"\"\n",
    "\n",
    "        # CF parameters\n",
    "        self.rank = rank\n",
    "        self.lmbda = lmbda\n",
    "        self.n_iterations = n_iterations\n",
    "\n",
    "\n",
    "        # internal data structures needed for CF\n",
    "        self.user_column = 'user'\n",
    "        self.item_column = 'item'\n",
    "        self.rating_column = 'rating'\n",
    "        self.user_index_column = 'user_index'\n",
    "        self.item_index_column = 'item_index'\n",
    "        self.df_ratings = None\n",
    "        self.rdd_ratings = None\n",
    "\n",
    "        # The CF model itself\n",
    "        self.model = None\n",
    "\n",
    "        # Auxilliary data strucutres\n",
    "        self.annoy_index = None\n",
    "        self.annoy_trees = None\n",
    "\n",
    "\n",
    "    def _get_rating_matrix_info(self, df,\n",
    "                               user_column, user_index_column,\n",
    "                               item_column, item_index_column,\n",
    "                               rating_column):\n",
    "        \"\"\" Preprocess data in order to get the ratings rdd (user, item, rating)\n",
    "        :df (Spark DataFrame): The input DataFrame holding the user/item data\n",
    "        :user_column (string): The user column name\n",
    "        :user_index_column (string): The user index column name\n",
    "        :item_column (string): The item column name\n",
    "        :item_index_column (string): The item index column name\n",
    "        :rating_column (string): The rating column name\n",
    "        input e.g.\n",
    "        +----+----+\n",
    "        |user|item|\n",
    "        +----+----+\n",
    "        |   A| id1|\n",
    "        |   A| id3|\n",
    "        |   B| id1|\n",
    "        |   C| id5|\n",
    "\n",
    "        output ratings data frame e.g.\n",
    "        +----+------+----+----------+----------+\n",
    "        |item|rating|user|user_index|item_index|\n",
    "        +----+------+----+----------+----------+\n",
    "        | id5|     1|   C|         2|         2|\n",
    "        | id1|     1|   B|         1|         0|\n",
    "        | id3|     1|   A|         0|         1|\n",
    "\n",
    "        output ratings rdd e.g.\n",
    "        [Rating(user=2, product=2, rating=1.0),\n",
    "         Rating(user=2, product=4, rating=1.0),\n",
    "         Rating(user=1, product=5, rating=1.0), ...]\n",
    "\n",
    "        \"\"\"\n",
    "\n",
    "        # clear data\n",
    "        # e.g. user has seen only one item - does not contribute to collborative intelligence\n",
    "        user_items_df = \\\n",
    "            df.rdd.groupByKey()\\\n",
    "                  .map(lambda (user, items): (user, len(items)))\\\n",
    "                  .map(lambda (user, n_items): Row(user=user, n_items=n_items))\\\n",
    "                  .toDF()\n",
    "        df = df.join(user_items_df, [user_column])\n",
    "        df = df.filter(df['n_items'] > 1).select([user_column, item_column])\n",
    "\n",
    "\n",
    "        # Get ratings matrix\n",
    "        # +----+------+----+\n",
    "        # |item|rating|user|\n",
    "        # +----+------+----+\n",
    "        # | id5|     1|   C|\n",
    "        # | id6|     1|   C|\n",
    "        # | id4|     1|   B|\n",
    "        df_ratings = df.rdd\\\n",
    "            .map(lambda (user, item): ((user, item), 1))\\\n",
    "            .reduceByKey(add)\\\n",
    "            .map(lambda ((user, item), rating): Row(user=user, item=item, rating=rating))\\\n",
    "            .toDF()\n",
    "\n",
    "        # Index user / item values for ALS input\n",
    "        # we cast explicitly to integer. If not result is real and ALS performance drops dramatically\n",
    "        df_ratings = StringIndexer(inputCol=user_column,\n",
    "                                   outputCol=user_index_column,\n",
    "                                   handleInvalid=\"skip\")\\\n",
    "            .fit(df_ratings)\\\n",
    "            .transform(df_ratings)\\\n",
    "            .withColumn(user_index_column, col(user_index_column).cast(\"integer\"))\n",
    "\n",
    "        df_ratings = StringIndexer(inputCol=item_column,\n",
    "                                   outputCol=item_index_column,\n",
    "                                   handleInvalid=\"skip\")\\\n",
    "            .fit(df_ratings)\\\n",
    "            .transform(df_ratings)\\\n",
    "            .withColumn(item_index_column, col(item_index_column).cast(\"integer\"))\n",
    "\n",
    "        # get ratings rdd\n",
    "        rdd_ratings = df_ratings\\\n",
    "            .select([user_index_column, item_index_column, rating_column])\\\n",
    "            .rdd.map(lambda (user, item, rating): Rating(user, item, rating))\n",
    "\n",
    "        return df_ratings, rdd_ratings\n",
    "\n",
    "\n",
    "    def train(self, df):\n",
    "        \"\"\" Training of Collabrative Filtering model.\n",
    "        This is a wrapper, see details in doc strings of functions below\n",
    "        :df (Spark DataFrame): The input DataFrame holding the user/item data\n",
    "        input e.g.\n",
    "        +----+----+\n",
    "        |user|item|\n",
    "        +----+----+\n",
    "        |   A| id1|\n",
    "        |   A| id3|\n",
    "        |   B| id1|\n",
    "        |   C| id5|\n",
    "        \"\"\"\n",
    "\n",
    "        # get rating objects\n",
    "        (self.df_ratings, self.rdd_ratings) = self._get_rating_matrix_info(df,\n",
    "            self.user_column, self.user_index_column,\n",
    "            self.item_column, self.item_index_column,\n",
    "            self.rating_column)\n",
    "\n",
    "        # train the ALS model (implicit because we have implicit ratings)\n",
    "        self.model = ALS.trainImplicit(self.rdd_ratings,\n",
    "                                  self.rank,\n",
    "                                  self.n_iterations,\n",
    "                                  self.lmbda)\n",
    "\n",
    "\n",
    "    def recommend_products(self, n_top_products):\n",
    "        return self.model.recommendProductsForUsers(n_top_products).collect()"
   ]
  },
  {
   "cell_type": "markdown",
   "metadata": {},
   "source": [
    "# Synthesize our Data"
   ]
  },
  {
   "cell_type": "markdown",
   "metadata": {},
   "source": [
    "We synthesize our input data to match a typical recommendation problem, user-item Matrix. We have 5 users choosing among few products. Many of the user have same products of preference. \n",
    "\n",
    "On purpose we give names to the items that reveal their collor. This is done in order to be able to validate later if this collor preference is reflected in the latent space. "
   ]
  },
  {
   "cell_type": "code",
   "execution_count": 3,
   "metadata": {
    "collapsed": false
   },
   "outputs": [
    {
     "name": "stdout",
     "output_type": "stream",
     "text": [
      "We have N distinct users:  5\n",
      "We have N distinct items:  11\n",
      "+---------+----------+\n",
      "|     user|      item|\n",
      "+---------+----------+\n",
      "|      Tom| red_shoes|\n",
      "|      Tom|   red_pen|\n",
      "|      Tom|   red_bag|\n",
      "|Christian|blue_drone|\n",
      "+---------+----------+\n",
      "only showing top 4 rows\n",
      "\n"
     ]
    }
   ],
   "source": [
    "df = sql_context.createDataFrame([( 'Tom', 'red_shoes'),  \n",
    "                                  ( 'Tom', 'red_pen'),\n",
    "                                  ( 'Tom', 'red_bag'),\n",
    "                                  \n",
    "                                  ( 'Christian', 'blue_drone'),\n",
    "                                  ( 'Christian', 'blue_watch'),\n",
    "                                  ( 'Christian', 'blue_headphones'),\n",
    "                                  \n",
    "                                  ( 'Mary', 'red_shoes'),  \n",
    "                                  ( 'Mary', 'red_hat'),\n",
    "                                  ( 'Mary', 'red_bag'),\n",
    "                                  \n",
    "                                  ( 'Joe', 'yellow_boots'),  \n",
    "                                  ( 'Joe', 'yellow_ombrella'),\n",
    "                                  ( 'Joe', 'yellow_book'),\n",
    "                                                                    \n",
    "                                  ( 'Nick', 'blue_drone'),\n",
    "                                  ( 'Nick', 'blue_glasses'),\n",
    "                                  ( 'Nick', 'blue_headphones')\n",
    "                                 ], \n",
    "                                 [ \"user\", \"item\"])\n",
    "\n",
    "print \"We have N distinct users: \", df.select('user').distinct().count()\n",
    "print \"We have N distinct items: \", df.select('item').distinct().count()\n",
    "\n",
    "df.show(4)"
   ]
  },
  {
   "cell_type": "markdown",
   "metadata": {},
   "source": [
    "# Perform Colloaborative Filtering"
   ]
  },
  {
   "cell_type": "code",
   "execution_count": 6,
   "metadata": {
    "collapsed": false
   },
   "outputs": [],
   "source": [
    "# we choose latent factor = 2 because we want to project the results directly in the 2d space\n",
    "RANK = 2\n",
    "\n",
    "cf = CollaborativeFiltering(rank=RANK)\n",
    "cf.train(df)"
   ]
  },
  {
   "cell_type": "code",
   "execution_count": 7,
   "metadata": {
    "collapsed": false
   },
   "outputs": [
    {
     "name": "stdout",
     "output_type": "stream",
     "text": [
      "[Row(item=u'blue_headphones', rating=1, user=u'Nick', user_index=2, item_index=1), Row(item=u'yellow_ombrella', rating=1, user=u'Joe', user_index=0, item_index=9)]\n"
     ]
    }
   ],
   "source": [
    "# internally the CF assigns indexes to users and items \n",
    "print cf.df_ratings.take(2)"
   ]
  },
  {
   "cell_type": "code",
   "execution_count": 9,
   "metadata": {
    "collapsed": false
   },
   "outputs": [
    {
     "name": "stdout",
     "output_type": "stream",
     "text": [
      "+----------+--------------------+----+\n",
      "|user_index|     user_latent_vec|user|\n",
      "+----------+--------------------+----+\n",
      "|         0|[0.02588073164224...| Joe|\n",
      "|         0|[0.02588073164224...| Joe|\n",
      "+----------+--------------------+----+\n",
      "only showing top 2 rows\n",
      "\n"
     ]
    }
   ],
   "source": [
    "# we access the latent space of users and create the relevant dataframe\n",
    "df_user_latent = sql_context.createDataFrame(\n",
    "    cf.model.userFeatures(), \n",
    "    ['user_index', 'user_latent_vec'])\n",
    "df_user_info = cf.df_ratings.select(['user', 'user_index'])\n",
    "df_user_latent = df_user_latent.join(df_user_info, ['user_index'])\n",
    "df_user_latent.show(2)"
   ]
  },
  {
   "cell_type": "code",
   "execution_count": 10,
   "metadata": {
    "collapsed": false
   },
   "outputs": [
    {
     "name": "stdout",
     "output_type": "stream",
     "text": [
      "+----------+--------------------+-------+\n",
      "|item_index|     item_latent_vec|   item|\n",
      "+----------+--------------------+-------+\n",
      "|         0|[-0.1131361946463...|red_bag|\n",
      "|         0|[-0.1131361946463...|red_bag|\n",
      "+----------+--------------------+-------+\n",
      "only showing top 2 rows\n",
      "\n"
     ]
    }
   ],
   "source": [
    "# same for items\n",
    "df_item_latent = sql_context.createDataFrame(cf.model.productFeatures(), \n",
    "                                             ['item_index', 'item_latent_vec'])\n",
    "df_item_info = cf.df_ratings.select(['item', 'item_index'])\n",
    "df_item_latent = df_item_latent.join(df_item_info, ['item_index'])\n",
    "df_item_latent.show(2)"
   ]
  },
  {
   "cell_type": "code",
   "execution_count": 11,
   "metadata": {
    "collapsed": false
   },
   "outputs": [],
   "source": [
    "# keep as dictionaries the latent info of users/items\n",
    "user_latent_info = df_user_latent.rdd\\\n",
    "  .map(lambda (user_index, user_latent_vec, user): ((user_index, user), user_latent_vec))\\\n",
    "  .collectAsMap()\n",
    "\n",
    "\n",
    "item_latent_info = df_item_latent.rdd\\\n",
    "  .map(lambda (item_index, item_latent_vec, user): ((item_index, user), item_latent_vec))\\\n",
    "  .collectAsMap()\n"
   ]
  },
  {
   "cell_type": "markdown",
   "metadata": {
    "collapsed": false
   },
   "source": [
    "# Plot"
   ]
  },
  {
   "cell_type": "code",
   "execution_count": 13,
   "metadata": {
    "collapsed": false
   },
   "outputs": [],
   "source": [
    "import random\n",
    "def get_latent_space_values(latent_d):\n",
    "    x = [];\n",
    "    y = []\n",
    "    labels = []\n",
    "    for k, v in latent_d.iteritems():\n",
    "        # we add on purpose a tiny noise fuctor so not to have overlaping points\n",
    "        epsilon = random.uniform(0, 0.15)\n",
    "        x.append(v[0]+epsilon)\n",
    "        y.append(v[1]+epsilon)\n",
    "        user = k[1]\n",
    "        labels.append(user)\n",
    "    return (x, y, labels)\n",
    "  \n",
    "def get_latent_space_fig(x, y, labels, title=\"\"):\n",
    "    fig, ax = plt.subplots(figsize=(5,5))\n",
    "    fig.suptitle(title, fontsize=10, fontweight='bold')\n",
    "    for i, label in enumerate(labels):\n",
    "        #plt.annotate(label, (x[i], y[i]))\n",
    "        ax.text(x[i], y[i], label)\n",
    "    plt.scatter(x, y)\n",
    "    plt.show()\n",
    "    return fig"
   ]
  },
  {
   "cell_type": "markdown",
   "metadata": {},
   "source": [
    "### Latent space with Items\n",
    "\n",
    "As we see the latent space of items, shows that _blue_ items are somehow located together, _red_ items are somehow again located together and _yellow_ items have their own corner. It is important to remember that we have not given any explicit information of those items. The only reason they are grouped is because the users that buy them have the preference on color. The items are grouped together just because their relevant users like them, and as a result in the latent space we see that this happens because the users have some preference in the color. \n",
    "\n",
    "In this view, the latent space can be regarded as a _color_ space, where red lays in the (x, y) ~ (0. 1) ,  blue lays in the region (x, y) ~ (-0.5, 0) and yellow lays in the region (x, y) ~ (0, 0)."
   ]
  },
  {
   "cell_type": "code",
   "execution_count": 16,
   "metadata": {
    "collapsed": false
   },
   "outputs": [
    {
     "data": {
      "image/png": "[encoded data removed]",
      "text/plain": [
       "<matplotlib.figure.Figure at 0x7f32197fbb90>"
      ]
     },
     "metadata": {},
     "output_type": "display_data"
    }
   ],
   "source": [
    "(x_items, y_items, labels_items) = get_latent_space_values(item_latent_info)\n",
    "fig = get_latent_space_fig(x_items, y_items, labels_items, title='Item Latent Space')\n",
    "#display(fig)"
   ]
  },
  {
   "cell_type": "markdown",
   "metadata": {},
   "source": [
    "### Latent space with Users\n",
    "\n",
    "Similarily we can see the latent space of users. Here we notice that users are grouped together, just because of their common item preferences. "
   ]
  },
  {
   "cell_type": "code",
   "execution_count": 18,
   "metadata": {
    "collapsed": false
   },
   "outputs": [
    {
     "data": {
      "image/png": "[encoded data removed]",
      "text/plain": [
       "<matplotlib.figure.Figure at 0x7f3253144710>"
      ]
     },
     "metadata": {},
     "output_type": "display_data"
    }
   ],
   "source": [
    "(x_users, y_users, labels_users) = get_latent_space_values(user_latent_info)\n",
    "fig = get_latent_space_fig(x_users, y_users, labels_users, title='User Latent Space')"
   ]
  },
  {
   "cell_type": "markdown",
   "metadata": {},
   "source": [
    "### Latent space (users & items)\n",
    "\n",
    "Finally we dump all user and items in the same plot. It is the same latent space they share so we would think that the correlated users and their relevant items will lay in the same area. Lets plot them to validate thid hypothesis"
   ]
  },
  {
   "cell_type": "code",
   "execution_count": 20,
   "metadata": {
    "collapsed": false
   },
   "outputs": [
    {
     "data": {
      "image/png": "[encoded data removed]",
      "text/plain": [
       "<matplotlib.figure.Figure at 0x7f321949d7d0>"
      ]
     },
     "metadata": {},
     "output_type": "display_data"
    }
   ],
   "source": [
    "fig = get_latent_space_fig(x_users + x_items, \n",
    "                           y_users + y_items, \n",
    "                           labels_users + labels_items, \n",
    "                           title='Latent Space (users and items)')"
   ]
  },
  {
   "cell_type": "markdown",
   "metadata": {
    "collapsed": true
   },
   "source": [
    "So as we can see, not perfectly but the trend is there. The users of the red item preferences are close to the red colored items in the latent space. The same happens with the rest of the users. \n",
    "\n",
    "This last observation, make us think that such information can be used for personalized recommendations using this latent space. Since we can give higher scores to the items that lay closer to the user. Would not bet my last dollar on that, and this idea can be elaborated, but probably we sit on something. \n",
    "\n",
    "Anyway, 3 plots per notebook are good enough, we catchup with that in a supsequent story ;-)"
   ]
  },
  {
   "cell_type": "code",
   "execution_count": null,
   "metadata": {
    "collapsed": true
   },
   "outputs": [],
   "source": []
  }
 ],
 "metadata": {
  "kernelspec": {
   "display_name": "pySpark",
   "language": "python",
   "name": "pyspark"
  },
  "language_info": {
   "codemirror_mode": {
    "name": "ipython",
    "version": 2
   },
   "file_extension": ".py",
   "mimetype": "text/x-python",
   "name": "python",
   "nbconvert_exporter": "python",
   "pygments_lexer": "ipython2",
   "version": "2.7.12"
  }
 },
 "nbformat": 4,
 "nbformat_minor": 0
}
