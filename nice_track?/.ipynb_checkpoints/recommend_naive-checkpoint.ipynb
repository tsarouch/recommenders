{
 "cells": [
  {
   "cell_type": "markdown",
   "metadata": {},
   "source": [
    "### imports"
   ]
  },
  {
   "cell_type": "code",
   "execution_count": 1,
   "metadata": {
    "collapsed": false
   },
   "outputs": [],
   "source": [
    "import os\n",
    "import os.path\n",
    "\n",
    "from datetime import datetime\n",
    "\n",
    "from reader import read_data, read_artist_id_map, read_artist_alias_map\n",
    "from checks import ids_requirements_satisfied\n",
    "from plots import plot_roc_curves\n",
    "\n",
    "from pyspark import SparkContext\n",
    "from pyspark import SparkConf\n",
    "from pyspark.mllib.recommendation import ALS, MatrixFactorizationModel, Rating\n",
    "\n",
    "spark_conf = SparkConf()\\\n",
    "        .setMaster(\"local\")\\\n",
    "        .setAppName(\"music_recommender\")\n",
    "\n",
    "        \n",
    "%load_ext autoreload\n",
    "%autoreload 2\n",
    "%matplotlib inline"
   ]
  },
  {
   "cell_type": "markdown",
   "metadata": {},
   "source": [
    "### read data"
   ]
  },
  {
   "cell_type": "code",
   "execution_count": 22,
   "metadata": {
    "collapsed": false
   },
   "outputs": [
    {
     "name": "stdout",
     "output_type": "stream",
     "text": [
      "We have N data rows:  242\n"
     ]
    }
   ],
   "source": [
    "user_artist_rdd = read_data(sc, 0.00001)\n",
    "# increase partitions so to avoid the Java heap space issue (good 3 / cpu)\n",
    "user_artist_rdd = user_artist_rdd.repartition(24)\n",
    "user_artist_rdd.cache()\n",
    "\n",
    "print \"We have N data rows: \",  user_artist_rdd.count()\n",
    "        \n",
    "# Read the artist data\n",
    "artist_id_map = read_artist_id_map(sc)\n",
    "\n",
    "# we convert all artist IDs to canonical form using aliases\n",
    "artist_alias_map = read_artist_alias_map(sc)\n",
    "    \n",
    "# and then we broadcast the map variables\n",
    "artist_id_map_br = sc.broadcast(artist_id_map)\n",
    "artist_alias_map_br = sc.broadcast(artist_alias_map)"
   ]
  },
  {
   "cell_type": "code",
   "execution_count": 17,
   "metadata": {
    "collapsed": false
   },
   "outputs": [
    {
     "name": "stdout",
     "output_type": "stream",
     "text": [
      "Basic requirements satisfied:  True\n"
     ]
    }
   ],
   "source": [
    "print \"Basic requirements satisfied: \", ids_requirements_satisfied(user_artist_rdd)"
   ]
  },
  {
   "cell_type": "markdown",
   "metadata": {},
   "source": [
    "### create and train model"
   ]
  },
  {
   "cell_type": "code",
   "execution_count": 35,
   "metadata": {
    "collapsed": false
   },
   "outputs": [],
   "source": [
    "# ALS algoritm works with Rating Objects (user, product, value)\n",
    "# we construct first the rating objects\n",
    "        \n",
    "ratings = user_artist_rdd\\\n",
    "            .map(lambda x: x.split(' '))\\\n",
    "            .map(lambda x: Rating(int(x[0]), int(x[1]), float(x[2])))\n",
    "        \n",
    "ratings.cache()\n",
    "\n",
    "# if we use the implicit version, the ALS is not factoring the matrix A (where value is some number)\n",
    "# but another matrix B which contains 1 when the value >0 and 0 elswhere \n",
    "model = ALS.trainImplicit(ratings, 10, 5, 0.01)\n",
    " "
   ]
  },
  {
   "cell_type": "markdown",
   "metadata": {},
   "source": [
    "### call model recommendations"
   ]
  },
  {
   "cell_type": "code",
   "execution_count": 36,
   "metadata": {
    "collapsed": false
   },
   "outputs": [
    {
     "name": "stdout",
     "output_type": "stream",
     "text": [
      "=> The preferences of the test user id  1000002  are: \n",
      "[u'Carl Douglas', u'Furslide', u'Annie Lennox', u'Monk', u'MC Hammer', u'Aqua', u'Samuel Barber', u'Richard Blackwood', u'Heavy Stereo', u'Tal Bachman', u'ATB', u'Radiator', u'Ronan Keating', u'Ian Brown', u'Headswim', u'Cyclefly', u'Freakpower', u'The Bluetones', u'Crazy Town', u'Mallrats', u'[unknown]', u'Chris Cornell', u'Apollo 440', u'Powerman 5000', u'The Scorpions', u'The Cars', u'Belle and Sebastian', u'The Bangles', u'The Troggs', u'The Smashing Pumpkins', u'Portishead', u'Phil Collins Big Band', u'The Phil Collins Big Band', u'A Perfect Circle', u'Aerosmith', u'MC Hawking', u'Pantera', u'Judas Priest', u'Metallica', u'Terrorvision', u'Lynyrd Skynyrd', u'3 Doors Down', u'Gorillaz', u'Monty Python', u'Lit', u'John Lennon', u'Cream', u'The Mighty Mighty Bosstones', u'Helloween', u'Foo Fighters', u'Counting Crows', u'Creed', u'Iron Maiden', u'The Beatles', u'Incubus', u'Audioslave', u'Muse', u'(hed) Planet Earth', u'AC/DC', u'Disturbed', u'Symposium', u'Slipknot', u'Puddle of Mudd', u'Deacon Blue', u'Strawbs', u'Joe Satriani', u'Mike & the Mechanics', u'Bruce Springsteen', u'Queens of the Stone Age', u'Bon Jovi', u'Skid Row', u'Savage Garden', u'Clueless Soundtrack', u'Sevendust', u'Madness', u'Goo Goo Dolls', u'Alice in Chains', u'Soulwax', u'Harvey Danger', u'Spin Doctors', u'Crash Test Dummies', u'Seal', u'Fugees', u'Dust', u'Days Of The New', u'Toploader', u'Michael Jackson', u'Lisa Loeb', u'Gun', u'Fuel', u'Frankie Goes To Hollywood', u'Berlin', u'B.B. King & Eric Clapton', u'The Goops', u'Derek & Clive', u'Rainbow', u'Jeff Beck with Terry Bozzio & Tony Hymas', u'Amy Grant', u\"Ronnie Scott's Quintet\", u'Living Colour', u'Stanley Myers', u'Canto Gregoriano', u'Giordano', u'Rick Wakeman', u'Bentley Ryhthm Ace', u'Oleander-', u'Aretha Franklin', u'Natalie Imbruglia', u'The Delfonics', u'Billy Joel', u'ZZ Top', u'Brothers Johnson', u'Kerrang', u\"King's X\", u'T. Rex', u'Bryan Savage', u'Fourplay', u'George Shelby', u'Euge Groove', u'Lao Tizer', u'Thom Rotella', u'Craig Chaquico', u'Dire Straits', u'Bush', u'Eve 6', u'Puff Daddy', u'Robbie Williams', u'Mot\\xf6rhead', u'Silverchair', u'Ash', u'Bill Withers', u'Warren Bernhardt', u'Meat Loaf', u'Gerald Albright/Lee Ritenour', u'Wheatus', u'Helmet', u'The Lightning Seeds', u'Free', u'One Minute Silence', u\"Fun Lovin' Criminals\", u\"Guns N' Roses\", u'Frenzal Rhomb', u'At the Drive-In', u'Skunk Anansie', u'The Pretenders', u'Alien Ant Farm', u'Joe Satriani', u'Cutting Crew', u'Marillion', u'F.I.N.E', u'A', u'Pieces Of A Dream', u'James Bond', u'Duran Duran Feat. Melle Mel &', u'Drugstore', u'Andy Williams', u'INXS', u'Chef', u'Gigolo Aunts', u'Basement Jaxx', u'Lee Ritenour', u'Roxy Music', u'Save Ferris', u'Janus Stark', u'Black Candy', u'Roachford', u'Cheap Trick', u'Oleander', u'Bob Seger', u'Enya', u'Barenaked Ladies', u'Third Eye Blind', u'Buckcherry', u'All', u'Hootie & the Blowfish', u'Kenny Loggins', u'Embrace', u'Rocket From The Crypt', u'60ft Dolls', u'Eagle-Eye Cherry', u'Europe', u'Godsmack', u'18 Wheeler', u'Chris Rea', u'Goldfinger', u'Shed Seven', u'Kittie', u'Bran Van 3000', u'Sheryl Crow', u'John Miles', u'The Cranberries', u'Paul Oakenfold & Andy Gray', u'Elastica', u'Shanks & Bigfoot', u'Sleeper', u'John Vanderslice', u'Soul Asylum', u'Comedy', u'Clam Abuse', u'EMF', u'Collapsed Lung', u'Scatman John', u'Cliff Richard', u'Ricky Martin', u'Baddiel, Skinner & The Lightning Seeds', u'Mojo', u'Gay Dad', u'Eiffel 65', u'Eric Burdon & The Animals', u'Sash!', u'Coyote Shivers', u'Queen Adreena', u'Ugly Kid Joe', u'Gladiator', u'Thin Lizzy', u'The Seahorses', u'Innerzone Orchestra', u'The Waterboys', u'Heart', u'The Small Faces', u'Golden Earring', u'Steve Miller', u'Chuck Berry', u'Boy Hits Car', u'Jools Holland', u'Roger McGuinn', u'The Battle of Los Angeles', u'Steely Dan', u'Procol Harum', u'Elwood', u'Don McLean', u'The Classic Chill Out Album', u'John Mayer', u'Steve Miller Band', u'Divers', u'Frank Black', u'The Beach Boys', u'Nat King Cole', u'NoArtist', u'Sergei Rachmaninoff', u'Boston', u'4 Non Blondes']\n",
      "without broadcasting took:  33\n",
      "[u'Carl Douglas', u'Furslide', u'Annie Lennox', u'Monk', u'MC Hammer', u'Aqua', u'Samuel Barber', u'Richard Blackwood', u'Heavy Stereo', u'Tal Bachman', u'ATB', u'Radiator', u'Ronan Keating', u'Ian Brown', u'Headswim', u'Cyclefly', u'Freakpower', u'The Bluetones', u'Crazy Town', u'Mallrats', u'[unknown]', u'Chris Cornell', u'Apollo 440', u'Powerman 5000', u'The Scorpions', u'The Cars', u'Belle and Sebastian', u'The Bangles', u'The Troggs', u'The Smashing Pumpkins', u'Portishead', u'Phil Collins Big Band', u'The Phil Collins Big Band', u'A Perfect Circle', u'Aerosmith', u'MC Hawking', u'Pantera', u'Judas Priest', u'Metallica', u'Terrorvision', u'Lynyrd Skynyrd', u'3 Doors Down', u'Gorillaz', u'Monty Python', u'Lit', u'John Lennon', u'Cream', u'The Mighty Mighty Bosstones', u'Helloween', u'Foo Fighters', u'Counting Crows', u'Creed', u'Iron Maiden', u'The Beatles', u'Incubus', u'Audioslave', u'Muse', u'(hed) Planet Earth', u'AC/DC', u'Disturbed', u'Symposium', u'Slipknot', u'Puddle of Mudd', u'Deacon Blue', u'Strawbs', u'Joe Satriani', u'Mike & the Mechanics', u'Bruce Springsteen', u'Queens of the Stone Age', u'Bon Jovi', u'Skid Row', u'Savage Garden', u'Clueless Soundtrack', u'Sevendust', u'Madness', u'Goo Goo Dolls', u'Alice in Chains', u'Soulwax', u'Harvey Danger', u'Spin Doctors', u'Crash Test Dummies', u'Seal', u'Fugees', u'Dust', u'Days Of The New', u'Toploader', u'Michael Jackson', u'Lisa Loeb', u'Gun', u'Fuel', u'Frankie Goes To Hollywood', u'Berlin', u'B.B. King & Eric Clapton', u'The Goops', u'Derek & Clive', u'Rainbow', u'Jeff Beck with Terry Bozzio & Tony Hymas', u'Amy Grant', u\"Ronnie Scott's Quintet\", u'Living Colour', u'Stanley Myers', u'Canto Gregoriano', u'Giordano', u'Rick Wakeman', u'Bentley Ryhthm Ace', u'Oleander-', u'Aretha Franklin', u'Natalie Imbruglia', u'The Delfonics', u'Billy Joel', u'ZZ Top', u'Brothers Johnson', u'Kerrang', u\"King's X\", u'T. Rex', u'Bryan Savage', u'Fourplay', u'George Shelby', u'Euge Groove', u'Lao Tizer', u'Thom Rotella', u'Craig Chaquico', u'Dire Straits', u'Bush', u'Eve 6', u'Puff Daddy', u'Robbie Williams', u'Mot\\xf6rhead', u'Silverchair', u'Ash', u'Bill Withers', u'Warren Bernhardt', u'Meat Loaf', u'Gerald Albright/Lee Ritenour', u'Wheatus', u'Helmet', u'The Lightning Seeds', u'Free', u'One Minute Silence', u\"Fun Lovin' Criminals\", u\"Guns N' Roses\", u'Frenzal Rhomb', u'At the Drive-In', u'Skunk Anansie', u'The Pretenders', u'Alien Ant Farm', u'Joe Satriani', u'Cutting Crew', u'Marillion', u'F.I.N.E', u'A', u'Pieces Of A Dream', u'James Bond', u'Duran Duran Feat. Melle Mel &', u'Drugstore', u'Andy Williams', u'INXS', u'Chef', u'Gigolo Aunts', u'Basement Jaxx', u'Lee Ritenour', u'Roxy Music', u'Save Ferris', u'Janus Stark', u'Black Candy', u'Roachford', u'Cheap Trick', u'Oleander', u'Bob Seger', u'Enya', u'Barenaked Ladies', u'Third Eye Blind', u'Buckcherry', u'All', u'Hootie & the Blowfish', u'Kenny Loggins', u'Embrace', u'Rocket From The Crypt', u'60ft Dolls', u'Eagle-Eye Cherry', u'Europe', u'Godsmack', u'18 Wheeler', u'Chris Rea', u'Goldfinger', u'Shed Seven', u'Kittie', u'Bran Van 3000', u'Sheryl Crow', u'John Miles', u'The Cranberries', u'Paul Oakenfold & Andy Gray', u'Elastica', u'Shanks & Bigfoot', u'Sleeper', u'John Vanderslice', u'Soul Asylum', u'Comedy', u'Clam Abuse', u'EMF', u'Collapsed Lung', u'Scatman John', u'Cliff Richard', u'Ricky Martin', u'Baddiel, Skinner & The Lightning Seeds', u'Mojo', u'Gay Dad', u'Eiffel 65', u'Eric Burdon & The Animals', u'Sash!', u'Coyote Shivers', u'Queen Adreena', u'Ugly Kid Joe', u'Gladiator', u'Thin Lizzy', u'The Seahorses', u'Innerzone Orchestra', u'The Waterboys', u'Heart', u'The Small Faces', u'Golden Earring', u'Steve Miller', u'Chuck Berry', u'Boy Hits Car', u'Jools Holland', u'Roger McGuinn', u'The Battle of Los Angeles', u'Steely Dan', u'Procol Harum', u'Elwood', u'Don McLean', u'The Classic Chill Out Album', u'John Mayer', u'Steve Miller Band', u'Divers', u'Frank Black', u'The Beach Boys', u'Nat King Cole', u'NoArtist', u'Sergei Rachmaninoff', u'Boston', u'4 Non Blondes']\n",
      "using broadcast variables took:  5\n",
      "=> The ALS model recommendations are:  [u'Aerosmith', u'Metallica', u'Counting Crows', u'Free', u\"Guns N' Roses\"]\n"
     ]
    }
   ],
   "source": [
    "# Lets take a test user id\n",
    "test_user_id = user_artist_rdd.first().split()[0]\n",
    "\n",
    "# Lets see what artist ids this user likes \n",
    "print \"=> The preferences of the test user id \", test_user_id, \" are: \"\n",
    "\n",
    "# 1) using python dictionaries\n",
    "t1 = datetime.now()\n",
    "print user_artist_rdd\\\n",
    "    .filter(lambda x: x.split(' ')[0]==test_user_id)\\\n",
    "    .map(lambda x: x.split(' ')[1])\\\n",
    "    .map(lambda x: int(x))\\\n",
    "    .map(lambda x: artist_alias_map.get(x, x) )\\\n",
    "    .map(lambda x: artist_id_map.get(x, x) )\\\n",
    "    .collect()\n",
    "t2 = datetime.now()\n",
    "print \"without broadcasting took: \",(t2 - t1).seconds\n",
    "\n",
    "\n",
    "# 2) using broadcast variables\n",
    "t1 = datetime.now()\n",
    "print user_artist_rdd\\\n",
    "    .filter(lambda x: x.split(' ')[0]==test_user_id)\\\n",
    "    .map(lambda x: x.split(' ')[1])\\\n",
    "    .map(lambda x: int(x))\\\n",
    "    .map(lambda x: artist_alias_map_br.value.get(x, x))\\\n",
    "    .map(lambda x: artist_id_map_br.value.get(x, x))\\\n",
    "    .collect()\n",
    "t2 = datetime.now()\n",
    "print \"using broadcast variables took: \", (t2 - t1).seconds\n",
    "\n",
    "# and now lets see what the model can recommend\n",
    "# we get the model recommendations\n",
    "rec_info = model.recommendProducts(int(test_user_id), 5)\n",
    "\n",
    "# then we sort accrodingly\n",
    "rec_info = sorted(list(rec_info), key=lambda x: x[1])\n",
    "\n",
    "# then we keep only the product=artist\n",
    "print \"=> The ALS model recommendations are: \",  [artist_id_map.get(x[1]) for x in rec_info]"
   ]
  },
  {
   "cell_type": "markdown",
   "metadata": {},
   "source": [
    "### See my own recommendations"
   ]
  },
  {
   "cell_type": "code",
   "execution_count": 40,
   "metadata": {
    "collapsed": false
   },
   "outputs": [
    {
     "name": "stdout",
     "output_type": "stream",
     "text": [
      "=> The ALS model recommendations are:  [u'Scorpions & the Berlin Philharmonic Orchestra', u'Ongsfromthewood-Jethrotull', u'P\\xefnk floid', u'Judas Priest', u'John Mayer', u'Fugees', u'Counting Crows', u'Bruce Springsteen', u'Jools Holland', u'Muse', u'Joe Satriani', u'The Smashing Pumpkins', u'Elastica', u'The Phil Collins Big Band', u'Chuck Berry', u'Fourplay', u'MC Hawking', u'Aerosmith', u'Toploader', u'Portishead']\n"
     ]
    }
   ],
   "source": [
    "my_ratings = sc.parallelize(['99999999 10445322 5', \n",
    "                             '99999999 10147472 5', \n",
    "                             '99999999 10254710 5'], 2)\n",
    "user_artist_rdd = sc.union([user_artist_rdd, my_ratings])\n",
    "\n",
    "ratings = user_artist_rdd\\\n",
    "            .map(lambda x: x.split(' '))\\\n",
    "            .map(lambda x: Rating(int(x[0]), int(x[1]), float(x[2])))\n",
    "        \n",
    "model = ALS.trainImplicit(ratings, 10, 5, 0.01)\n",
    " \n",
    "rec_info = model.recommendProducts(int('99999999'), 20)\n",
    "print \"=> The ALS model recommendations are: \",  [artist_id_map.get(x[1]) for x in rec_info]"
   ]
  },
  {
   "cell_type": "code",
   "execution_count": null,
   "metadata": {
    "collapsed": true
   },
   "outputs": [],
   "source": []
  }
 ],
 "metadata": {
  "kernelspec": {
   "display_name": "Python 2",
   "language": "python",
   "name": "python2"
  },
  "language_info": {
   "codemirror_mode": {
    "name": "ipython",
    "version": 2
   },
   "file_extension": ".py",
   "mimetype": "text/x-python",
   "name": "python",
   "nbconvert_exporter": "python",
   "pygments_lexer": "ipython2",
   "version": "2.7.12"
  }
 },
 "nbformat": 4,
 "nbformat_minor": 0
}
