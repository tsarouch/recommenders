{
 "cells": [
  {
   "cell_type": "markdown",
   "metadata": {},
   "source": [
    "### imports"
   ]
  },
  {
   "cell_type": "code",
   "execution_count": 1,
   "metadata": {
    "collapsed": false
   },
   "outputs": [],
   "source": [
    "import sys\n",
    "import os\n",
    "import os.path\n",
    "\n",
    "from datetime import datetime\n",
    "\n",
    "#sys.path.append('/Users/charilaostsarouchas/tsarouch_github/recommenders')\n",
    "\n",
    "from reader import read_data, read_artist_id_map, read_artist_alias_map\n",
    "from checks import ids_requirements_satisfied\n",
    "from plots import plot_roc_curves\n",
    "\n",
    "from pyspark import SparkContext\n",
    "from pyspark import SparkConf\n",
    "from pyspark.mllib.recommendation import ALS, MatrixFactorizationModel, Rating\n",
    "\n",
    "spark_conf = SparkConf()\\\n",
    "        .setMaster(\"local\")\\\n",
    "        .setAppName(\"music_recommender\")\n",
    "\n",
    "        \n",
    "%load_ext autoreload\n",
    "%autoreload 2\n",
    "%matplotlib inline"
   ]
  },
  {
   "cell_type": "markdown",
   "metadata": {},
   "source": [
    "### read data"
   ]
  },
  {
   "cell_type": "code",
   "execution_count": 2,
   "metadata": {
    "collapsed": false
   },
   "outputs": [
    {
     "name": "stdout",
     "output_type": "stream",
     "text": [
      "We have N data rows:  21867169\n"
     ]
    }
   ],
   "source": [
    "user_artist_rdd = read_data(sc, 0.0001)\n",
    "# increase partitions so to avoid the Java heap space issue (good 3 / cpu)\n",
    "user_artist_rdd = user_artist_rdd.repartition(24)\n",
    "user_artist_rdd.cache()\n",
    "\n",
    "print \"We have N data rows: \",  user_artist_rdd.count()\n",
    "        \n",
    "# Read the artist data\n",
    "artist_id_map = read_artist_id_map(sc)\n",
    "\n",
    "# we convert all artist IDs to canonical form using aliases\n",
    "artist_alias_map = read_artist_alias_map(sc)\n",
    "    \n",
    "# and then we broadcast the map variables\n",
    "artist_id_map_br = sc.broadcast(artist_id_map)\n",
    "artist_alias_map_br = sc.broadcast(artist_alias_map)"
   ]
  },
  {
   "cell_type": "code",
   "execution_count": 7,
   "metadata": {
    "collapsed": false
   },
   "outputs": [],
   "source": [
    "#user_artist_rdd.take(20)\n",
    "#user_artist_rdd\\\n",
    "#    .map(lambda x: (int(x.split()[0]), int(x.split()[1])))\\\n",
    "#    .groupByKey()\\\n",
    "#    .map(lambda x : (x[0], list(x[1])))\\\n",
    "#    .filter(lambda x: x[0]==2014447)\\\n",
    "#    .take(10)"
   ]
  },
  {
   "cell_type": "code",
   "execution_count": 8,
   "metadata": {
    "collapsed": false
   },
   "outputs": [
    {
     "name": "stdout",
     "output_type": "stream",
     "text": [
      "Requirements satisfied:  True\n"
     ]
    }
   ],
   "source": [
    "print \"Requirements satisfied: \", ids_requirements_satisfied(user_artist_rdd)"
   ]
  },
  {
   "cell_type": "markdown",
   "metadata": {},
   "source": [
    "### recommend with cross validation "
   ]
  },
  {
   "cell_type": "code",
   "execution_count": 24,
   "metadata": {
    "collapsed": false
   },
   "outputs": [],
   "source": [
    "# Get ratings objects\n",
    "ratings = user_artist_rdd\\\n",
    "    .map(lambda x: x.split())\\\n",
    "    .map(lambda x: Rating(int(x[0]), artist_alias_map_br.value.get(x[1], x[1]), x[2]))\n",
    "    \n",
    "ratings_train, ratings_test = ratings.randomSplit([0.9, 0.1])\n",
    "ratings_train.cache()\n",
    "\n",
    "# train the model\n",
    "model = ALS.trainImplicit(ratings_train, 10, 5, 0.01)\n",
    "\n",
    "# and predict preferences\n",
    "# (predictAll takes as input user and product pairs)\n",
    "ratings_test = ratings_test.map(lambda x: (x[0], x[1]))\n",
    "ratings_test.cache()\n",
    "recommendations = model.predictAll(ratings_test)"
   ]
  },
  {
   "cell_type": "code",
   "execution_count": 25,
   "metadata": {
    "collapsed": false
   },
   "outputs": [
    {
     "name": "stdout",
     "output_type": "stream",
     "text": [
      "Example of train data:  Rating(user=2014447, product=1259, rating=22.0)\n",
      "Example of test data:  (2014451, u'1240182')\n",
      "Example of recommended data:  Rating(user=2165772, product=1844, rating=-1.523944511237923e-08)\n"
     ]
    }
   ],
   "source": [
    "print \"Example of train data: \", ratings_train.first()\n",
    "print \"Example of test data: \", ratings_test.first()\n",
    "print \"Example of recommended data: \", recommendations.first()"
   ]
  },
  {
   "cell_type": "markdown",
   "metadata": {},
   "source": [
    "### Evaluate with ROC"
   ]
  },
  {
   "cell_type": "code",
   "execution_count": 50,
   "metadata": {
    "collapsed": false
   },
   "outputs": [
    {
     "data": {
      "text/plain": [
       "[(2014451, u'1240182'),\n",
       " (2014467, u'952'),\n",
       " (2014536, u'1184928'),\n",
       " (2014629, u'4495'),\n",
       " (2014649, u'6994810'),\n",
       " (2014713, u'1002451'),\n",
       " (2014736, u'1105360'),\n",
       " (2014761, u'1008079'),\n",
       " (2014777, u'4263'),\n",
       " (2014832, u'1000024')]"
      ]
     },
     "execution_count": 50,
     "metadata": {},
     "output_type": "execute_result"
    }
   ],
   "source": [
    "#ratings_test.filter(lambda x: x[0]==2158020).first()\n",
    "ratings_test.take(10)"
   ]
  },
  {
   "cell_type": "code",
   "execution_count": 41,
   "metadata": {
    "collapsed": false
   },
   "outputs": [
    {
     "data": {
      "text/plain": [
       "[(2123904, [5741]),\n",
       " (2040960, [234]),\n",
       " (2136708, [1784]),\n",
       " (1037448, [1002660]),\n",
       " (1051308, [1012627]),\n",
       " (2165772, [1844]),\n",
       " (1041168, [1253358]),\n",
       " (1002648, [1002469]),\n",
       " (1063848, [1000265]),\n",
       " (2273940, [1890]),\n",
       " (2262552, [1002647]),\n",
       " (2134788, [1306]),\n",
       " (2374044, [1050131]),\n",
       " (2064048, [1009722]),\n",
       " (1056168, [1003448]),\n",
       " (2424108, [1003673]),\n",
       " (1066104, [1003568]),\n",
       " (2326704, [1002473]),\n",
       " (2048436, [1863]),\n",
       " (2057988, [793]),\n",
       " (2052396, [1027248]),\n",
       " (2004408, [1890]),\n",
       " (2007732, [1005479]),\n",
       " (2019756, [1003606]),\n",
       " (1044540, [911]),\n",
       " (2196012, [1129143]),\n",
       " (1046976, [1020686]),\n",
       " (2250720, [1012167]),\n",
       " (1001604, [4468]),\n",
       " (2292804, [1002061]),\n",
       " (2133528, [1013203]),\n",
       " (2328900, [1000655]),\n",
       " (2196876, [2814]),\n",
       " (2065584, [1004701]),\n",
       " (2411724, [1023763]),\n",
       " (2173008, [1044497]),\n",
       " (2351976, [1054817, 1003558]),\n",
       " (2370180, [1009031]),\n",
       " (2082132, [1007810]),\n",
       " (2006352, [1006053]),\n",
       " (1063488, [18]),\n",
       " (2034276, [1001806]),\n",
       " (2239452, [1011299]),\n",
       " (2231160, [1000130]),\n",
       " (2223108, [212]),\n",
       " (1063776, [1005226]),\n",
       " (2011728, [1001909]),\n",
       " (2009268, [1018130]),\n",
       " (2035404, [1105902]),\n",
       " (2343912, [1010520]),\n",
       " (2316204, [2138]),\n",
       " (1031916, [1004584]),\n",
       " (2354796, [1001066]),\n",
       " (2356464, [1000112]),\n",
       " (1001640, [1018807]),\n",
       " (2237940, [6775878]),\n",
       " (1040244, [1000052]),\n",
       " (1071096, [1001772]),\n",
       " (1073940, [1000693]),\n",
       " (2158020, [2120978, 1008851]),\n",
       " (2009256, [1003870]),\n",
       " (2062716, [1034635]),\n",
       " (1077252, [1000010]),\n",
       " (1066369, [4468]),\n",
       " (1035397, [1240025]),\n",
       " (2392513, [1246855]),\n",
       " (1002925, [1013088]),\n",
       " (2366737, [339]),\n",
       " (1055509, [1041866]),\n",
       " (1002841, [1632]),\n",
       " (2028313, [1007890]),\n",
       " (2146309, [1013677]),\n",
       " (2036893, [1000329]),\n",
       " (2220037, [1000113]),\n",
       " (1000993, [1000716]),\n",
       " (1064701, [83]),\n",
       " (2115109, [1002370]),\n",
       " (2307697, [1275467]),\n",
       " (2186665, [1000591]),\n",
       " (2361901, [4471]),\n",
       " (1067677, [4250]),\n",
       " (1070641, [1022938]),\n",
       " (2074549, [1001068]),\n",
       " (2309449, [1212138]),\n",
       " (2139793, [4250]),\n",
       " (1042873, [1000985]),\n",
       " (2144317, [1179]),\n",
       " (2023861, [4781]),\n",
       " (2147461, [1000938]),\n",
       " (2193601, [799]),\n",
       " (1026529, [1010100]),\n",
       " (2305993, [3011]),\n",
       " (2042065, [1000597]),\n",
       " (2174305, [1001820]),\n",
       " (1071313, [1000017, 1024151]),\n",
       " (2259409, [1108087]),\n",
       " (2195413, [1003568]),\n",
       " (2116177, [6622181]),\n",
       " (2216377, [1005736]),\n",
       " (2131801, [838])]"
      ]
     },
     "execution_count": 41,
     "metadata": {},
     "output_type": "execute_result"
    }
   ],
   "source": [
    "# we group by user so to get the list of recommendations\n",
    "recommendations_user = \\\n",
    "    recommendations\\\n",
    "    .map(lambda x: (x.user, x.product))\\\n",
    "    .groupByKey()\\\n",
    "    .map(lambda x : (x[0], list(x[1])))"
   ]
  },
  {
   "cell_type": "code",
   "execution_count": 30,
   "metadata": {
    "collapsed": false
   },
   "outputs": [
    {
     "data": {
      "text/plain": [
       "[(2223108, (212, u'212')),\n",
       " (1044540, (911, u'911')),\n",
       " (2292804, (1002061, u'1002061'))]"
      ]
     },
     "execution_count": 30,
     "metadata": {},
     "output_type": "execute_result"
    }
   ],
   "source": [
    "recommendations.join(ratings_test).take(3)"
   ]
  },
  {
   "cell_type": "code",
   "execution_count": 29,
   "metadata": {
    "collapsed": false
   },
   "outputs": [
    {
     "data": {
      "text/plain": [
       "(212, u'212')"
      ]
     },
     "execution_count": 29,
     "metadata": {},
     "output_type": "execute_result"
    }
   ],
   "source": [
    "recommendations.join(ratings_test).map(lambda x: x[1]).first()"
   ]
  },
  {
   "cell_type": "code",
   "execution_count": 92,
   "metadata": {
    "collapsed": false
   },
   "outputs": [],
   "source": [
    "ratings_train, ratings_test = ratings.randomSplit([0.9, 0.1])\n",
    "ratings_train.cache()\n",
    "ratings_test.cache()\n",
    "\n",
    "# construct model with ALS\n",
    "model = ALS.trainImplicit(ratings_train, 10, 5, 0.01)\n",
    "\n",
    "# retrieve the user - item pairs\n",
    "user_item_pairs = ratings_test.map(lambda r: (r.user, r.product))\n",
    "\n",
    "# predict based on the ALS model\n",
    "predictions = model.predictAll(user_item_pairs).groupBy(lambda x: x.user)\n"
   ]
  },
  {
   "cell_type": "code",
   "execution_count": 97,
   "metadata": {
    "collapsed": false
   },
   "outputs": [
    {
     "data": {
      "text/plain": [
       "1"
      ]
     },
     "execution_count": 97,
     "metadata": {},
     "output_type": "execute_result"
    }
   ],
   "source": [
    "ratings_test.filter(lambda x: x[0]==1001471).count()"
   ]
  },
  {
   "cell_type": "code",
   "execution_count": 75,
   "metadata": {
    "collapsed": false
   },
   "outputs": [
    {
     "name": "stdout",
     "output_type": "stream",
     "text": [
      "We have  2210  train rankings.\n",
      "We have  233  test rankings.\n",
      "Example of rating object :  Rating(user=1000208, product=1009970, rating=23.0)\n",
      "Example of prediction object :  (1054264, <pyspark.resultiterable.ResultIterable object at 0x11aba2a10>)\n"
     ]
    }
   ],
   "source": [
    "print \"We have \",  ratings_train.count(), \" train rankings.\"\n",
    "print \"We have \",  ratings_test.count(), \" test rankings.\"\n",
    "print \"Example of rating object : \", ratings_test.first()\n",
    "print \"Example of prediction object : \", predictions.first()"
   ]
  },
  {
   "cell_type": "code",
   "execution_count": 81,
   "metadata": {
    "collapsed": true
   },
   "outputs": [],
   "source": [
    "predictions_users = predictions.map(lambda x: x[0]).collect()"
   ]
  },
  {
   "cell_type": "code",
   "execution_count": 83,
   "metadata": {
    "collapsed": false
   },
   "outputs": [
    {
     "data": {
      "text/plain": [
       "4"
      ]
     },
     "execution_count": 83,
     "metadata": {},
     "output_type": "execute_result"
    }
   ],
   "source": [
    "ratings_train.filter(lambda x: x[0] in predictions_users ).count()"
   ]
  },
  {
   "cell_type": "code",
   "execution_count": null,
   "metadata": {
    "collapsed": true
   },
   "outputs": [],
   "source": []
  },
  {
   "cell_type": "code",
   "execution_count": 79,
   "metadata": {
    "collapsed": false
   },
   "outputs": [
    {
     "data": {
      "text/plain": [
       "pyspark.rdd.PipelinedRDD"
      ]
     },
     "execution_count": 79,
     "metadata": {},
     "output_type": "execute_result"
    }
   ],
   "source": [
    "type(ratings_train)"
   ]
  },
  {
   "cell_type": "code",
   "execution_count": 35,
   "metadata": {
    "collapsed": false
   },
   "outputs": [],
   "source": [
    "import random\n",
    "def getNegativeProductsForSingleUser(userID, posItemIDs, allItemIDs):\n",
    "    from array import array\n",
    "    posItemIDSet = set(posItemIDs)\n",
    "    negative = array('i')\n",
    "    i = 0\n",
    "    # Keep about as many negative examples per user as positive.\n",
    "    # Duplicates are OK\n",
    "    while i < len(allItemIDs) and len(negative) < len(posItemIDSet):\n",
    "        itemID = allItemIDs[random.randint(0, len(allItemIDs))]\n",
    "        if itemID not in posItemIDSet:\n",
    "            negative.append(itemID)\n",
    "        i += 1\n",
    "    # Result is a collection of (user,negative-item) tuples\n",
    "    return map(lambda itemID: (userID, itemID), negative)\n",
    "\n",
    "\n",
    "\n",
    "def createNegativeProductSet(userIDAndPosItemIDs, bAllItemIDs):\n",
    "    \"\"\"Creates a random set of products that were predicted by a recommendation model,\n",
    "    but never actually liked/used by a particular user.\n",
    "    We can then use these products to verify that\n",
    "    our recommendation model consistently rates these negative products\n",
    "    lower than the ones liked by the user (based on test/CV data)\n",
    "    Args:\n",
    "       userIDAndPosItemIDs: A tuple of <UserID, ResultIterable>\n",
    "       bAllItemIDs: a broadcast variable containing IDs of all the products in the dataset.\n",
    "    Returns:\n",
    "        A collection of tuples of form <UserID, ItemID> with products recommended\n",
    "        to but not ever liked by users.\n",
    "    \"\"\"\n",
    "    allItemIDs = bAllItemIDs.value\n",
    "    return map(lambda (userID, posItemIDs): getNegativeProductsForSingleUser(userID, posItemIDs, allItemIDs), userIDAndPosItemIDs)\n"
   ]
  },
  {
   "cell_type": "code",
   "execution_count": 54,
   "metadata": {
    "collapsed": true
   },
   "outputs": [],
   "source": [
    "all_product_ids = ratings.map(lambda x: x.product).map(lambda x: int(x)).distinct().collect()\n",
    "all_product_ids_br = sc.broadcast(all_product_ids)"
   ]
  },
  {
   "cell_type": "code",
   "execution_count": 63,
   "metadata": {
    "collapsed": false
   },
   "outputs": [
    {
     "name": "stdout",
     "output_type": "stream",
     "text": [
      "(2019875, <pyspark.resultiterable.ResultIterable object at 0x10a541810>)\n"
     ]
    }
   ],
   "source": [
    "print u_p_P\\\n",
    "    .groupByKey().first()"
   ]
  },
  {
   "cell_type": "code",
   "execution_count": 61,
   "metadata": {
    "collapsed": false
   },
   "outputs": [
    {
     "data": {
      "text/plain": [
       "(2019875, 1186233)"
      ]
     },
     "execution_count": 61,
     "metadata": {},
     "output_type": "execute_result"
    }
   ],
   "source": [
    "u_p_P\\\n",
    "    .groupByKey()\\\n",
    "    .mapPartitions(lambda x: createNegativeProductSet(x, all_product_ids_br))\\\n",
    "    .flatMap(lambda x: x)\\\n",
    "    .first()\n"
   ]
  },
  {
   "cell_type": "code",
   "execution_count": null,
   "metadata": {
    "collapsed": true
   },
   "outputs": [],
   "source": [
    "u_p_P\\\n",
    "    .groupByKey()\\\n",
    "    .map(lambda (user_id, product_ids_P): getNegativeProductsForSingleUser(user_id, product_ids_P, all_product_ids_br), userIDAndPosItemIDs))\\\n",
    "    .mapPartitions(lambda x: createNegativeProductSet(x, all_product_ids_br))\\\n",
    "    .flatMap(lambda x: x)\\\n",
    "    .first()\n"
   ]
  },
  {
   "cell_type": "code",
   "execution_count": 71,
   "metadata": {
    "collapsed": false
   },
   "outputs": [
    {
     "data": {
      "image/png": "[encoded data removed]",
      "text/plain": [
       "<matplotlib.figure.Figure at 0x11dc23ed0>"
      ]
     },
     "metadata": {},
     "output_type": "display_data"
    }
   ],
   "source": [
    "# plot the roc curve \n",
    "plot_roc_curves([[[1, 1], [2, 4], [3, 9], [4, 16]], ], ['example', ], ['r',])"
   ]
  },
  {
   "cell_type": "code",
   "execution_count": 70,
   "metadata": {
    "collapsed": false
   },
   "outputs": [
    {
     "ename": "SyntaxError",
     "evalue": "invalid syntax (<ipython-input-70-7bd523e8c470>, line 21)",
     "output_type": "error",
     "traceback": [
      "\u001b[0;36m  File \u001b[0;32m\"<ipython-input-70-7bd523e8c470>\"\u001b[0;36m, line \u001b[0;32m21\u001b[0m\n\u001b[0;31m    if (score[i] > T) and (y[i]==0)\u001b[0m\n\u001b[0m                                   ^\u001b[0m\n\u001b[0;31mSyntaxError\u001b[0m\u001b[0;31m:\u001b[0m invalid syntax\n"
     ]
    }
   ],
   "source": [
    "import matplotlib.pyplot as plt\n",
    "import numpy as np\n",
    "\n",
    "score = np.array([0.9, 0.8, 0.7, 0.6, 0.55, 0.54, 0.53, 0.52, 0.51, 0.505, 0.4, 0.39, 0.38, 0.37, 0.36, 0.35, 0.34, 0.33, 0.30, 0.1])\n",
    "y = np.array([1,1,0, 1, 1, 1, 0, 0, 1, 0, 1,0, 1, 0, 0, 0, 1 , 0, 1, 0])\n",
    "\n",
    "roc_x = []\n",
    "roc_y = []\n",
    "min_score = min(score)\n",
    "max_score = max(score)\n",
    "thr = np.linspace(min_score, max_score, 30)\n",
    "FP=0\n",
    "TP=0\n",
    "N = sum(y)\n",
    "P = len(y) - N\n",
    "\n",
    "for (i, T) in enumerate(thr):\n",
    "    for i in range(0, len(score)):\n",
    "        if (score[i] > T) and (y[i]==1):\n",
    "            TP = TP + 1\n",
    "        if (score[i] > T) and (y[i]==0)\n",
    "            FP = FP + 1\n",
    "    roc_x.append(FP/float(P))\n",
    "    roc_y.append(TP/float(N))\n",
    "    FP=0\n",
    "    TP=0\n",
    "\n",
    "plt.scatter(roc_x, roc_y)\n",
    "plt.show()"
   ]
  },
  {
   "cell_type": "code",
   "execution_count": 68,
   "metadata": {
    "collapsed": false
   },
   "outputs": [
    {
     "name": "stdout",
     "output_type": "stream",
     "text": [
      "10 10\n"
     ]
    }
   ],
   "source": [
    "roc_x\n",
    "print N, P"
   ]
  },
  {
   "cell_type": "code",
   "execution_count": null,
   "metadata": {
    "collapsed": true
   },
   "outputs": [],
   "source": []
  }
 ],
 "metadata": {
  "kernelspec": {
   "display_name": "Python 2",
   "language": "python",
   "name": "python2"
  },
  "language_info": {
   "codemirror_mode": {
    "name": "ipython",
    "version": 2
   },
   "file_extension": ".py",
   "mimetype": "text/x-python",
   "name": "python",
   "nbconvert_exporter": "python",
   "pygments_lexer": "ipython2",
   "version": "2.7.12"
  }
 },
 "nbformat": 4,
 "nbformat_minor": 0
}
