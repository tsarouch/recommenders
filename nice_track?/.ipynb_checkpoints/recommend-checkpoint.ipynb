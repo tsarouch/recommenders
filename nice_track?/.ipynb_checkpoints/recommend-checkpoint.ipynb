{
 "cells": [
  {
   "cell_type": "markdown",
   "metadata": {},
   "source": [
    "Inspired by the book\n",
    "\n",
    "Title:Advanced Analytics with Spark\n",
    "\n",
    "By: Sandy Ryza, Uri Laserson, Sean Owen, Josh Wills\n",
    "\n",
    "Publisher:O' Reilly Media\n",
    "\n",
    "Data downloaded from: http://www-etud.iro.umontreal.ca/~bergstrj/audioscrobbler_data.html"
   ]
  },
  {
   "cell_type": "markdown",
   "metadata": {},
   "source": [
    "### imports"
   ]
  },
  {
   "cell_type": "code",
   "execution_count": 52,
   "metadata": {
    "collapsed": false
   },
   "outputs": [
    {
     "name": "stdout",
     "output_type": "stream",
     "text": [
      "The autoreload extension is already loaded. To reload it, use:\n",
      "  %reload_ext autoreload\n"
     ]
    }
   ],
   "source": [
    "import os\n",
    "import os.path\n",
    "\n",
    "from datetime import datetime\n",
    "\n",
    "from reader import read_user_artist_data, read_artist_id_map, read_artist_alias_map\n",
    "from checks import ids_requirements_satisfied\n",
    "from pyspark import SparkContext\n",
    "from pyspark import SparkConf\n",
    "from pyspark.mllib.recommendation import ALS, MatrixFactorizationModel, Rating\n",
    "\n",
    "spark_conf = SparkConf()\\\n",
    "        .setMaster(\"local\")\\\n",
    "        .setAppName(\"music_recommender\")\n",
    "\n",
    "%load_ext autoreload\n",
    "%autoreload 2"
   ]
  },
  {
   "cell_type": "markdown",
   "metadata": {},
   "source": [
    "### read data"
   ]
  },
  {
   "cell_type": "code",
   "execution_count": 31,
   "metadata": {
    "collapsed": false
   },
   "outputs": [
    {
     "name": "stdout",
     "output_type": "stream",
     "text": [
      "We have N data rows:  2443\n"
     ]
    }
   ],
   "source": [
    "user_artist_rdd = read_user_artist_data(sc)\n",
    "user_artist_rdd.cache()\n",
    "\n",
    "print \"We have N data rows: \",  user_artist_rdd.count()\n",
    "        \n",
    "# Read the artist data\n",
    "artist_id_map = read_artist_id_map(sc)\n",
    "\n",
    "# we convert all artist IDs to canonical form using aliases\n",
    "artist_alias_map = read_artist_alias_map(sc)\n",
    "    \n"
   ]
  },
  {
   "cell_type": "code",
   "execution_count": 45,
   "metadata": {
    "collapsed": true
   },
   "outputs": [],
   "source": [
    "# and then we broadcast it\n",
    "artist_id_map_br = sc.broadcast(artist_id_map)\n",
    "artist_alias_map_br = sc.broadcast(artist_alias_map)"
   ]
  },
  {
   "cell_type": "code",
   "execution_count": 5,
   "metadata": {
    "collapsed": false
   },
   "outputs": [
    {
     "name": "stdout",
     "output_type": "stream",
     "text": [
      "basic requirements satisfied:  True\n"
     ]
    }
   ],
   "source": [
    "print \"basic requirements satisfied: \", ids_requirements_satisfied(user_artist_rdd)"
   ]
  },
  {
   "cell_type": "markdown",
   "metadata": {},
   "source": [
    "### create and train model"
   ]
  },
  {
   "cell_type": "code",
   "execution_count": 11,
   "metadata": {
    "collapsed": true
   },
   "outputs": [],
   "source": [
    "# ALS algoritm works with Rating Objects (user, product, value)\n",
    "# we construct first the rating objects\n",
    "        \n",
    "ratings = user_artist_rdd\\\n",
    "            .map(lambda x: x.split(' '))\\\n",
    "            .map(lambda x: Rating(int(x[0]), int(x[1]), float(x[2])))\n",
    "        \n",
    "ratings.cache()\n",
    "\n",
    "# if we use the implicit version, the ALS is not factoring the matrix A (where value is some number)\n",
    "# but another matrix B which contains 1 when the value >0 and 0 elswhere \n",
    "model = ALS.trainImplicit(ratings, 10, 5, 0.01)\n",
    " "
   ]
  },
  {
   "cell_type": "markdown",
   "metadata": {},
   "source": [
    "### call model recommendations"
   ]
  },
  {
   "cell_type": "code",
   "execution_count": 54,
   "metadata": {
    "collapsed": false
   },
   "outputs": [
    {
     "name": "stdout",
     "output_type": "stream",
     "text": [
      "[u'orange pekoe', u'Cary Brothers']\n",
      "25\n",
      "[u'orange pekoe', u'Cary Brothers']\n",
      "2\n"
     ]
    }
   ],
   "source": [
    "# Lets take a random user id\n",
    "random_user_id = '1000557'\n",
    "\n",
    "# Lets see what artist ids this user likes \n",
    "print \"= = = > This is what user likes .... \"\n",
    "\n",
    "# 1) using python dictionaries\n",
    "t1 = datetime.now()\n",
    "print user_artist_rdd\\\n",
    "    .filter(lambda x: x.split(' ')[0]==random_user_id)\\\n",
    "    .map(lambda x: x.split(' ')[1])\\\n",
    "    .map(lambda x: int(x))\\\n",
    "    .map(lambda x: artist_alias_map.get(x, x) )\\\n",
    "    .map(lambda x: artist_id_map.get(x, x) )\\\n",
    "    .collect()\n",
    "t2 = datetime.now()\n",
    "print (t2 - t1).seconds\n",
    "\n",
    "\n",
    "# 2) using broadcast variables\n",
    "t1 = datetime.now()\n",
    "print user_artist_rdd\\\n",
    "    .filter(lambda x: x.split(' ')[0]==random_user_id)\\\n",
    "    .map(lambda x: x.split(' ')[1])\\\n",
    "    .map(lambda x: int(x))\\\n",
    "    .map(lambda x: artist_alias_map_br.value.get(x, x))\\\n",
    "    .map(lambda x: artist_id_map_br.value.get(x, x))\\\n",
    "    .collect()\n",
    "t2 = datetime.now()\n",
    "print (t2 - t1).seconds\n",
    "\n",
    "# and now lets see what the model can recommend\n",
    "print \"= = = > This is what we recommend with ALS .... \"\n",
    "\n",
    "\n",
    "# we get the model recommendations\n",
    "rec_info = model.recommendProducts(1000557, 5)\n",
    "\n",
    "# then we sort accrodingly\n",
    "rec_info = sorted(list(rec_info), key=lambda x: x[1])\n",
    "\n",
    "# then we keep only the product=artist\n",
    "print [artist_id_map.get(x[1]) for x in rec_info]"
   ]
  },
  {
   "cell_type": "code",
   "execution_count": 60,
   "metadata": {
    "collapsed": false
   },
   "outputs": [
    {
     "data": {
      "text/plain": [
       "[u'Beck', u'Nirvana', u'Radiohead', u'P.O.D.', u'Frou Frou']"
      ]
     },
     "execution_count": 60,
     "metadata": {},
     "output_type": "execute_result"
    }
   ],
   "source": []
  },
  {
   "cell_type": "code",
   "execution_count": null,
   "metadata": {
    "collapsed": true
   },
   "outputs": [],
   "source": []
  }
 ],
 "metadata": {
  "kernelspec": {
   "display_name": "Python 2",
   "language": "python",
   "name": "python2"
  },
  "language_info": {
   "codemirror_mode": {
    "name": "ipython",
    "version": 2
   },
   "file_extension": ".py",
   "mimetype": "text/x-python",
   "name": "python",
   "nbconvert_exporter": "python",
   "pygments_lexer": "ipython2",
   "version": "2.7.12"
  }
 },
 "nbformat": 4,
 "nbformat_minor": 0
}
