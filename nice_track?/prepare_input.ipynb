{
 "cells": [
  {
   "cell_type": "code",
   "execution_count": 96,
   "metadata": {
    "collapsed": true
   },
   "outputs": [],
   "source": [
    "from pyspark.sql import Row\n",
    "import pyspark.sql.types as T \n",
    "from pyspark.sql.functions import udf\n",
    "\n",
    "DATA_PATH = \"/Users/charilaostsarouchas/tsarouch_github/data/recommenders/audioscrobbler_data/profiledata_06-May-2005/\"\n",
    "USER_RAW_RATINGS = os.path.join(DATA_PATH, 'user_artist_data_small.txt')\n",
    "CANONICAL_IDS_MAP = os.path.join(DATA_PATH, 'artist_alias.txt')\n",
    "ARTIST_NAMES_MAP = os.path.join(DATA_PATH, 'artist_data.txt')\n",
    "USER_RATINGS = os.path.join(DATA_PATH, 'user_ratings.txt')"
   ]
  },
  {
   "cell_type": "code",
   "execution_count": 111,
   "metadata": {
    "collapsed": false,
    "scrolled": true
   },
   "outputs": [],
   "source": [
    "def get_ratings_df():\n",
    "    \"\"\" Prepare the Rating Objects to final format\n",
    "    Return the rating object (user, item, rate)\n",
    "    \"\"\"\n",
    "    \n",
    "    # Read Data to DataFrame\n",
    "    ratings_rdd = sc.textFile(USER_RAW_RATINGS)\n",
    "    ratings_df = ratings_rdd\\\n",
    "        .map(lambda x: Row(user=x.split(' ')[0], \n",
    "                           item=x.split(' ')[1], \n",
    "                           rate=x.split(' ')[2]))\\\n",
    "        .toDF()\n",
    " \n",
    "    # Apply the canonical ids\n",
    "    # Maps artist IDs that are known misspellings or variants to the canonical ID of the artist\n",
    "    canonical_ids_rdd = sc.textFile(CANONICAL_IDS_MAP)\n",
    "    canonical_ids_map = canonical_ids_rdd\\\n",
    "        .filter(lambda x: len(x.split('\\t'))==2)\\\n",
    "        .map(lambda x: Row(id=x.split('\\t')[0],\n",
    "                       canonical_id=x.split('\\t')[1]))\\\n",
    "        .collectAsMap()    \n",
    "    canonical_ids_map_br = sc.broadcast(canonical_ids_map)\n",
    "    ratings_df = ratings_df.withColumn(\n",
    "            'item', \n",
    "            udf(lambda x: canonical_ids_map_br.value.get(x, x), T.StringType())\n",
    "            (ratings_df['item']))\n",
    "    \n",
    "    \"\"\"\n",
    "    Statistics Examples:\n",
    "    Number of ratings:  100000\n",
    "    Number of distinct users:  408\n",
    "    Number of distinct artists:  37852\n",
    "    Number of distinct artists (after applying canonical ids):  37605\n",
    "    \"\"\"\n",
    "    \n",
    "    return ratings_df\n",
    "\n",
    "\n",
    "def save_ratings(df):\n",
    "    \"\"\"Save the ratings DataFrame ready for the recommendation engine\n",
    "    \"\"\"\n",
    "    df.toPandas().to_csv(USER_RATINGS ,index = False)"
   ]
  },
  {
   "cell_type": "code",
   "execution_count": 109,
   "metadata": {
    "collapsed": false
   },
   "outputs": [],
   "source": [
    "ratings_df = get_ratings_df()\n",
    "save_ratings(ratings_df)"
   ]
  },
  {
   "cell_type": "code",
   "execution_count": null,
   "metadata": {
    "collapsed": true
   },
   "outputs": [],
   "source": []
  }
 ],
 "metadata": {
  "kernelspec": {
   "display_name": "Python 2",
   "language": "python",
   "name": "python2"
  },
  "language_info": {
   "codemirror_mode": {
    "name": "ipython",
    "version": 2
   },
   "file_extension": ".py",
   "mimetype": "text/x-python",
   "name": "python",
   "nbconvert_exporter": "python",
   "pygments_lexer": "ipython2",
   "version": "2.7.12"
  }
 },
 "nbformat": 4,
 "nbformat_minor": 0
}
